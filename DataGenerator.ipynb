{
 "cells": [
  {
   "cell_type": "code",
   "id": "initial_id",
   "metadata": {
    "collapsed": true,
    "ExecuteTime": {
     "end_time": "2024-09-11T22:18:06.861026Z",
     "start_time": "2024-09-11T22:18:03.966899Z"
    }
   },
   "source": [
    "# use Terminal to upgrade jupyter server if needed:\n",
    "# pip install --upgrade jupyter_server \n",
    "\n",
    "import numpy as np\n",
    "import pandas as pd\n",
    "import geopandas as gpd\n",
    "from shapely.geometry import Point\n",
    "import random\n",
    "from datetime import datetime, timedelta"
   ],
   "outputs": [],
   "execution_count": 2
  },
  {
   "metadata": {},
   "cell_type": "markdown",
   "source": "### Test and display the location data",
   "id": "8f5a1a2b0a83269"
  },
  {
   "metadata": {
    "ExecuteTime": {
     "end_time": "2024-09-11T22:18:44.132865Z",
     "start_time": "2024-09-11T22:18:44.054745Z"
    }
   },
   "cell_type": "code",
   "source": [
    "# Create a sample geographic area (e.g., a city)\n",
    "city_center = Point(-122.4194, 37.7749)  # San Francisco coordinates\n",
    "city_radius = 0.1  # Roughly 11km\n",
    "\n",
    "# Generate random delivery locations\n",
    "longs = np.random.uniform(city_center.x - city_radius, city_center.x + city_radius, 1000)\n",
    "lats = np.random.uniform(city_center.y - city_radius, city_center.y + city_radius, 1000)\n",
    "\n",
    "# prepare data in Geoseries structire using to create a GeoDataFrame\n",
    "locations = gpd.GeoSeries([Point(xy) for xy in zip(longs, lats)])"
   ],
   "id": "97fd4877f6d8a49c",
   "outputs": [],
   "execution_count": 3
  },
  {
   "metadata": {
    "ExecuteTime": {
     "end_time": "2024-09-11T22:19:39.446606Z",
     "start_time": "2024-09-11T22:19:39.415358Z"
    }
   },
   "cell_type": "code",
   "source": "locations",
   "id": "b72c428afff0ecaa",
   "outputs": [
    {
     "data": {
      "text/plain": [
       "0      POINT (-122.37157 37.75201)\n",
       "1      POINT (-122.45448 37.72195)\n",
       "2      POINT (-122.38033 37.76449)\n",
       "3      POINT (-122.38550 37.76048)\n",
       "4      POINT (-122.37689 37.69876)\n",
       "                  ...             \n",
       "995    POINT (-122.36033 37.85258)\n",
       "996    POINT (-122.42743 37.79911)\n",
       "997    POINT (-122.48432 37.81366)\n",
       "998    POINT (-122.41165 37.79200)\n",
       "999    POINT (-122.36973 37.79125)\n",
       "Length: 1000, dtype: geometry"
      ]
     },
     "execution_count": 5,
     "metadata": {},
     "output_type": "execute_result"
    }
   ],
   "execution_count": 5
  },
  {
   "metadata": {},
   "cell_type": "markdown",
   "source": "### Test and display the time data",
   "id": "9bf266947f5bdf0e"
  },
  {
   "metadata": {
    "ExecuteTime": {
     "end_time": "2024-09-11T22:26:55.627674Z",
     "start_time": "2024-09-11T22:26:55.596426Z"
    }
   },
   "cell_type": "code",
   "source": [
    " # Generate delivery times\n",
    "num_days = 30\n",
    "num_deliveries = 1000\n",
    "start_datetime = datetime.strptime('2024-01-01', '%Y-%m-%d')\n",
    "datetimes = [start_datetime + timedelta(\n",
    "    days=random.randint(0, num_days-1),\n",
    "    hours=random.randint(8, 20),\n",
    "    minutes=random.randint(0, 59)\n",
    ") for _ in range(num_deliveries)]\n",
    "\n",
    "# Generate delivery durations (in minutes)\n",
    "durations = np.random.normal(30, 10, num_deliveries).astype(int)\n",
    "durations = np.clip(durations, 5, 120)  # Clip between 5 and 120 minutes to set any value less than 5 is set to 5, and any value greater than 120 is set to 120."
   ],
   "id": "9e83bbdd44a8e666",
   "outputs": [],
   "execution_count": 12
  },
  {
   "metadata": {
    "ExecuteTime": {
     "end_time": "2024-09-11T22:27:34.819586Z",
     "start_time": "2024-09-11T22:27:34.788340Z"
    }
   },
   "cell_type": "code",
   "source": "datetimes[:10]",
   "id": "3fedfdb9a9e4c1b",
   "outputs": [
    {
     "data": {
      "text/plain": [
       "[datetime.datetime(2024, 1, 15, 15, 8),\n",
       " datetime.datetime(2024, 1, 7, 8, 7),\n",
       " datetime.datetime(2024, 1, 18, 9, 2),\n",
       " datetime.datetime(2024, 1, 19, 16, 51),\n",
       " datetime.datetime(2024, 1, 17, 15, 51),\n",
       " datetime.datetime(2024, 1, 24, 10, 31),\n",
       " datetime.datetime(2024, 1, 19, 11, 56),\n",
       " datetime.datetime(2024, 1, 9, 9, 30),\n",
       " datetime.datetime(2024, 1, 9, 18, 34),\n",
       " datetime.datetime(2024, 1, 28, 8, 42)]"
      ]
     },
     "execution_count": 17,
     "metadata": {},
     "output_type": "execute_result"
    }
   ],
   "execution_count": 17
  },
  {
   "metadata": {
    "ExecuteTime": {
     "end_time": "2024-09-11T22:30:30.411149Z",
     "start_time": "2024-09-11T22:30:30.364278Z"
    }
   },
   "cell_type": "code",
   "source": "durations.shape # nparray",
   "id": "87b0ac5d02c98692",
   "outputs": [
    {
     "data": {
      "text/plain": [
       "(1000,)"
      ]
     },
     "execution_count": 22,
     "metadata": {},
     "output_type": "execute_result"
    }
   ],
   "execution_count": 22
  },
  {
   "metadata": {
    "ExecuteTime": {
     "end_time": "2024-09-11T22:31:16.622787Z",
     "start_time": "2024-09-11T22:31:16.592997Z"
    }
   },
   "cell_type": "code",
   "source": [
    "# Create weather conditions\n",
    "weather_conditions = np.random.choice(['Clear', 'Cloudy', 'Rainy'], num_deliveries, p=[0.6, 0.3, 0.1])\n",
    "\n",
    "# Create traffic conditions\n",
    "traffic_conditions = np.random.choice(['Light', 'Moderate', 'Heavy'], num_deliveries, p=[0.5, 0.3, 0.2])"
   ],
   "id": "6a314feef7781ca4",
   "outputs": [],
   "execution_count": 23
  },
  {
   "metadata": {
    "ExecuteTime": {
     "end_time": "2024-09-11T22:32:03.542031Z",
     "start_time": "2024-09-11T22:32:03.526407Z"
    }
   },
   "cell_type": "code",
   "source": "weather_conditions[:10], traffic_conditions[:10]",
   "id": "7ef06cb419ec0b9e",
   "outputs": [
    {
     "data": {
      "text/plain": [
       "(array(['Clear', 'Clear', 'Cloudy', 'Clear', 'Clear', 'Clear', 'Clear',\n",
       "        'Clear', 'Clear', 'Rainy'], dtype='<U6'),\n",
       " array(['Heavy', 'Light', 'Moderate', 'Light', 'Moderate', 'Light',\n",
       "        'Light', 'Light', 'Light', 'Moderate'], dtype='<U8'))"
      ]
     },
     "execution_count": 27,
     "metadata": {},
     "output_type": "execute_result"
    }
   ],
   "execution_count": 27
  },
  {
   "metadata": {
    "ExecuteTime": {
     "end_time": "2024-09-11T22:32:16.278137Z",
     "start_time": "2024-09-11T22:32:16.246884Z"
    }
   },
   "cell_type": "code",
   "source": [
    "# Create DataFrame\n",
    "df = pd.DataFrame({\n",
    "    'delivery_id': range(1, num_deliveries + 1),\n",
    "    'datetime': datetimes,\n",
    "    'duration_minutes': durations,\n",
    "    'weather': weather_conditions,\n",
    "    'traffic': traffic_conditions,\n",
    "    'latitude': lats,\n",
    "    'longitude': longs\n",
    "})"
   ],
   "id": "b8dd3cf4c0d14e7a",
   "outputs": [],
   "execution_count": 28
  },
  {
   "metadata": {
    "ExecuteTime": {
     "end_time": "2024-09-11T22:32:20.580956Z",
     "start_time": "2024-09-11T22:32:20.534084Z"
    }
   },
   "cell_type": "code",
   "source": "df.head()",
   "id": "7d68698ffe826b59",
   "outputs": [
    {
     "data": {
      "text/plain": [
       "   delivery_id            datetime  duration_minutes weather   traffic  \\\n",
       "0            1 2024-01-15 15:08:00                34   Clear     Heavy   \n",
       "1            2 2024-01-07 08:07:00                25   Clear     Light   \n",
       "2            3 2024-01-18 09:02:00                22  Cloudy  Moderate   \n",
       "3            4 2024-01-19 16:51:00                 8   Clear     Light   \n",
       "4            5 2024-01-17 15:51:00                40   Clear  Moderate   \n",
       "\n",
       "    latitude   longitude  \n",
       "0  37.752005 -122.371568  \n",
       "1  37.721948 -122.454479  \n",
       "2  37.764489 -122.380332  \n",
       "3  37.760484 -122.385498  \n",
       "4  37.698757 -122.376894  "
      ],
      "text/html": [
       "<div>\n",
       "<style scoped>\n",
       "    .dataframe tbody tr th:only-of-type {\n",
       "        vertical-align: middle;\n",
       "    }\n",
       "\n",
       "    .dataframe tbody tr th {\n",
       "        vertical-align: top;\n",
       "    }\n",
       "\n",
       "    .dataframe thead th {\n",
       "        text-align: right;\n",
       "    }\n",
       "</style>\n",
       "<table border=\"1\" class=\"dataframe\">\n",
       "  <thead>\n",
       "    <tr style=\"text-align: right;\">\n",
       "      <th></th>\n",
       "      <th>delivery_id</th>\n",
       "      <th>datetime</th>\n",
       "      <th>duration_minutes</th>\n",
       "      <th>weather</th>\n",
       "      <th>traffic</th>\n",
       "      <th>latitude</th>\n",
       "      <th>longitude</th>\n",
       "    </tr>\n",
       "  </thead>\n",
       "  <tbody>\n",
       "    <tr>\n",
       "      <th>0</th>\n",
       "      <td>1</td>\n",
       "      <td>2024-01-15 15:08:00</td>\n",
       "      <td>34</td>\n",
       "      <td>Clear</td>\n",
       "      <td>Heavy</td>\n",
       "      <td>37.752005</td>\n",
       "      <td>-122.371568</td>\n",
       "    </tr>\n",
       "    <tr>\n",
       "      <th>1</th>\n",
       "      <td>2</td>\n",
       "      <td>2024-01-07 08:07:00</td>\n",
       "      <td>25</td>\n",
       "      <td>Clear</td>\n",
       "      <td>Light</td>\n",
       "      <td>37.721948</td>\n",
       "      <td>-122.454479</td>\n",
       "    </tr>\n",
       "    <tr>\n",
       "      <th>2</th>\n",
       "      <td>3</td>\n",
       "      <td>2024-01-18 09:02:00</td>\n",
       "      <td>22</td>\n",
       "      <td>Cloudy</td>\n",
       "      <td>Moderate</td>\n",
       "      <td>37.764489</td>\n",
       "      <td>-122.380332</td>\n",
       "    </tr>\n",
       "    <tr>\n",
       "      <th>3</th>\n",
       "      <td>4</td>\n",
       "      <td>2024-01-19 16:51:00</td>\n",
       "      <td>8</td>\n",
       "      <td>Clear</td>\n",
       "      <td>Light</td>\n",
       "      <td>37.760484</td>\n",
       "      <td>-122.385498</td>\n",
       "    </tr>\n",
       "    <tr>\n",
       "      <th>4</th>\n",
       "      <td>5</td>\n",
       "      <td>2024-01-17 15:51:00</td>\n",
       "      <td>40</td>\n",
       "      <td>Clear</td>\n",
       "      <td>Moderate</td>\n",
       "      <td>37.698757</td>\n",
       "      <td>-122.376894</td>\n",
       "    </tr>\n",
       "  </tbody>\n",
       "</table>\n",
       "</div>"
      ]
     },
     "execution_count": 29,
     "metadata": {},
     "output_type": "execute_result"
    }
   ],
   "execution_count": 29
  },
  {
   "metadata": {
    "ExecuteTime": {
     "end_time": "2024-09-11T22:35:07.709129Z",
     "start_time": "2024-09-11T22:35:07.630735Z"
    }
   },
   "cell_type": "code",
   "source": [
    "# Convert to GeoDataFrame\n",
    "gdf = gpd.GeoDataFrame(df, geometry=locations, crs='EPSG:4326')\n",
    "gdf.head()"
   ],
   "id": "1958fa4c5368dcea",
   "outputs": [
    {
     "data": {
      "text/plain": [
       "   delivery_id            datetime  duration_minutes weather   traffic  \\\n",
       "0            1 2024-01-15 15:08:00                34   Clear     Heavy   \n",
       "1            2 2024-01-07 08:07:00                25   Clear     Light   \n",
       "2            3 2024-01-18 09:02:00                22  Cloudy  Moderate   \n",
       "3            4 2024-01-19 16:51:00                 8   Clear     Light   \n",
       "4            5 2024-01-17 15:51:00                40   Clear  Moderate   \n",
       "\n",
       "    latitude   longitude                     geometry  \n",
       "0  37.752005 -122.371568  POINT (-122.37157 37.75201)  \n",
       "1  37.721948 -122.454479  POINT (-122.45448 37.72195)  \n",
       "2  37.764489 -122.380332  POINT (-122.38033 37.76449)  \n",
       "3  37.760484 -122.385498  POINT (-122.38550 37.76048)  \n",
       "4  37.698757 -122.376894  POINT (-122.37689 37.69876)  "
      ],
      "text/html": [
       "<div>\n",
       "<style scoped>\n",
       "    .dataframe tbody tr th:only-of-type {\n",
       "        vertical-align: middle;\n",
       "    }\n",
       "\n",
       "    .dataframe tbody tr th {\n",
       "        vertical-align: top;\n",
       "    }\n",
       "\n",
       "    .dataframe thead th {\n",
       "        text-align: right;\n",
       "    }\n",
       "</style>\n",
       "<table border=\"1\" class=\"dataframe\">\n",
       "  <thead>\n",
       "    <tr style=\"text-align: right;\">\n",
       "      <th></th>\n",
       "      <th>delivery_id</th>\n",
       "      <th>datetime</th>\n",
       "      <th>duration_minutes</th>\n",
       "      <th>weather</th>\n",
       "      <th>traffic</th>\n",
       "      <th>latitude</th>\n",
       "      <th>longitude</th>\n",
       "      <th>geometry</th>\n",
       "    </tr>\n",
       "  </thead>\n",
       "  <tbody>\n",
       "    <tr>\n",
       "      <th>0</th>\n",
       "      <td>1</td>\n",
       "      <td>2024-01-15 15:08:00</td>\n",
       "      <td>34</td>\n",
       "      <td>Clear</td>\n",
       "      <td>Heavy</td>\n",
       "      <td>37.752005</td>\n",
       "      <td>-122.371568</td>\n",
       "      <td>POINT (-122.37157 37.75201)</td>\n",
       "    </tr>\n",
       "    <tr>\n",
       "      <th>1</th>\n",
       "      <td>2</td>\n",
       "      <td>2024-01-07 08:07:00</td>\n",
       "      <td>25</td>\n",
       "      <td>Clear</td>\n",
       "      <td>Light</td>\n",
       "      <td>37.721948</td>\n",
       "      <td>-122.454479</td>\n",
       "      <td>POINT (-122.45448 37.72195)</td>\n",
       "    </tr>\n",
       "    <tr>\n",
       "      <th>2</th>\n",
       "      <td>3</td>\n",
       "      <td>2024-01-18 09:02:00</td>\n",
       "      <td>22</td>\n",
       "      <td>Cloudy</td>\n",
       "      <td>Moderate</td>\n",
       "      <td>37.764489</td>\n",
       "      <td>-122.380332</td>\n",
       "      <td>POINT (-122.38033 37.76449)</td>\n",
       "    </tr>\n",
       "    <tr>\n",
       "      <th>3</th>\n",
       "      <td>4</td>\n",
       "      <td>2024-01-19 16:51:00</td>\n",
       "      <td>8</td>\n",
       "      <td>Clear</td>\n",
       "      <td>Light</td>\n",
       "      <td>37.760484</td>\n",
       "      <td>-122.385498</td>\n",
       "      <td>POINT (-122.38550 37.76048)</td>\n",
       "    </tr>\n",
       "    <tr>\n",
       "      <th>4</th>\n",
       "      <td>5</td>\n",
       "      <td>2024-01-17 15:51:00</td>\n",
       "      <td>40</td>\n",
       "      <td>Clear</td>\n",
       "      <td>Moderate</td>\n",
       "      <td>37.698757</td>\n",
       "      <td>-122.376894</td>\n",
       "      <td>POINT (-122.37689 37.69876)</td>\n",
       "    </tr>\n",
       "  </tbody>\n",
       "</table>\n",
       "</div>"
      ]
     },
     "execution_count": 32,
     "metadata": {},
     "output_type": "execute_result"
    }
   ],
   "execution_count": 32
  },
  {
   "metadata": {},
   "cell_type": "markdown",
   "source": "## Define a function to generate delivery data",
   "id": "901ea1625c732c69"
  },
  {
   "metadata": {
    "ExecuteTime": {
     "end_time": "2024-09-11T22:35:39.284797Z",
     "start_time": "2024-09-11T22:35:39.253549Z"
    }
   },
   "cell_type": "code",
   "source": [
    "def generate_delivery_data(num_deliveries=1000, start_date='2024-01-01', num_days=30):\n",
    "    # Create a sample geographic area (e.g., a city)\n",
    "    city_center = Point(-122.4194, 37.7749)  # San Francisco coordinates\n",
    "    city_radius = 0.1  # Roughly 11km\n",
    "\n",
    "    # Generate random delivery locations\n",
    "    longs = np.random.uniform(city_center.x - city_radius, city_center.x + city_radius, num_deliveries)\n",
    "    lats = np.random.uniform(city_center.y - city_radius, city_center.y + city_radius, num_deliveries)\n",
    "    locations = gpd.GeoSeries([Point(xy) for xy in zip(longs, lats)])\n",
    "\n",
    "    # Generate delivery times\n",
    "    start_datetime = datetime.strptime(start_date, '%Y-%m-%d')\n",
    "    datetimes = [start_datetime + timedelta(\n",
    "        days=random.randint(0, num_days-1),\n",
    "        hours=random.randint(8, 20),\n",
    "        minutes=random.randint(0, 59)\n",
    "    ) for _ in range(num_deliveries)]\n",
    "\n",
    "    # Generate delivery durations (in minutes)\n",
    "    durations = np.random.normal(30, 10, num_deliveries).astype(int)\n",
    "    durations = np.clip(durations, 5, 120)  # Clip between 5 and 120 minutes\n",
    "\n",
    "    # Create weather conditions\n",
    "    weather_conditions = np.random.choice(['Clear', 'Cloudy', 'Rainy'], num_deliveries, p=[0.6, 0.3, 0.1])\n",
    "\n",
    "    # Create traffic conditions\n",
    "    traffic_conditions = np.random.choice(['Light', 'Moderate', 'Heavy'], num_deliveries, p=[0.5, 0.3, 0.2])\n",
    "\n",
    "    # Create DataFrame\n",
    "    df = pd.DataFrame({\n",
    "        'delivery_id': range(1, num_deliveries + 1),\n",
    "        'datetime': datetimes,\n",
    "        'duration_minutes': durations,\n",
    "        'weather': weather_conditions,\n",
    "        'traffic': traffic_conditions,\n",
    "        'latitude': lats,\n",
    "        'longitude': longs\n",
    "    })\n",
    "\n",
    "    # Convert to GeoDataFrame\n",
    "    gdf = gpd.GeoDataFrame(df, geometry=locations, crs='EPSG:4326')\n",
    "\n",
    "    return gdf"
   ],
   "id": "fbc583cc64f4a0fa",
   "outputs": [],
   "execution_count": 33
  },
  {
   "metadata": {},
   "cell_type": "markdown",
   "source": "### Create a new local folder named 'data' to save the generated data",
   "id": "d17699202b440ae"
  },
  {
   "metadata": {
    "ExecuteTime": {
     "end_time": "2024-09-11T22:37:36.289606Z",
     "start_time": "2024-09-11T22:37:36.255202Z"
    }
   },
   "cell_type": "code",
   "source": [
    "import os\n",
    "\n",
    "# Create the 'data' directory if it doesn't exist\n",
    "os.makedirs('data', exist_ok=True)"
   ],
   "id": "41c1fc3d44b6d253",
   "outputs": [],
   "execution_count": 38
  },
  {
   "metadata": {
    "ExecuteTime": {
     "end_time": "2024-09-11T22:37:38.291034Z",
     "start_time": "2024-09-11T22:37:38.120887Z"
    }
   },
   "cell_type": "code",
   "source": [
    "# Generate the data\n",
    "delivery_data = generate_delivery_data()\n",
    "\n",
    "# Save to CSV (you can also save to GeoJSON or other formats if needed)\n",
    "delivery_data.to_csv('data/synthetic_delivery_data_010124.csv', index=False)\n",
    "\n",
    "print(\"Synthetic delivery data generated and saved to 'synthetic_delivery_data.csv'\")\n",
    "print(delivery_data.head())"
   ],
   "id": "aa6a60c311ff0cf9",
   "outputs": [
    {
     "name": "stdout",
     "output_type": "stream",
     "text": [
      "Synthetic delivery data generated and saved to 'synthetic_delivery_data.csv'\n",
      "   delivery_id            datetime  duration_minutes weather   traffic  \\\n",
      "0            1 2024-01-21 17:19:00                15   Clear  Moderate   \n",
      "1            2 2024-01-20 13:58:00                22   Clear  Moderate   \n",
      "2            3 2024-01-30 17:31:00                11   Clear     Light   \n",
      "3            4 2024-01-11 14:22:00                33  Cloudy     Light   \n",
      "4            5 2024-01-08 19:27:00                22   Clear     Light   \n",
      "\n",
      "    latitude   longitude                     geometry  \n",
      "0  37.798718 -122.516837  POINT (-122.51684 37.79872)  \n",
      "1  37.682273 -122.386426  POINT (-122.38643 37.68227)  \n",
      "2  37.677185 -122.491511  POINT (-122.49151 37.67719)  \n",
      "3  37.845155 -122.500552  POINT (-122.50055 37.84516)  \n",
      "4  37.717295 -122.513115  POINT (-122.51312 37.71730)  \n"
     ]
    }
   ],
   "execution_count": 39
  }
 ],
 "metadata": {
  "kernelspec": {
   "display_name": "Python 3",
   "language": "python",
   "name": "python3"
  },
  "language_info": {
   "codemirror_mode": {
    "name": "ipython",
    "version": 2
   },
   "file_extension": ".py",
   "mimetype": "text/x-python",
   "name": "python",
   "nbconvert_exporter": "python",
   "pygments_lexer": "ipython2",
   "version": "2.7.6"
  }
 },
 "nbformat": 4,
 "nbformat_minor": 5
}
