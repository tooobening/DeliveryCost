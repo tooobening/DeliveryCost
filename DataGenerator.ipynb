{
 "cells": [
  {
   "cell_type": "code",
   "id": "initial_id",
   "metadata": {
    "collapsed": true,
    "ExecuteTime": {
     "end_time": "2024-09-11T19:30:21.314531Z",
     "start_time": "2024-09-11T19:30:19.094803Z"
    }
   },
   "source": [
    "import numpy as np\n",
    "import pandas as pd\n",
    "import geopandas as gpd\n",
    "from shapely.geometry import Point\n",
    "import random\n",
    "from datetime import datetime, timedelta"
   ],
   "outputs": [],
   "execution_count": 1
  },
  {
   "metadata": {
    "ExecuteTime": {
     "end_time": "2024-09-11T19:33:00.233698Z",
     "start_time": "2024-09-11T19:33:00.164681Z"
    }
   },
   "cell_type": "code",
   "source": [
    "# Create a sample geographic area (e.g., a city)\n",
    "city_center = Point(-122.4194, 37.7749)  # San Francisco coordinates\n",
    "city_radius = 0.1  # Roughly 11km\n",
    "\n",
    "# Generate random delivery locations\n",
    "longs = np.random.uniform(city_center.x - city_radius, city_center.x + city_radius, 1000)\n",
    "lats = np.random.uniform(city_center.y - city_radius, city_center.y + city_radius, 1000)\n",
    "locations = gpd.GeoSeries([Point(xy) for xy in zip(longs, lats)])\n"
   ],
   "id": "97fd4877f6d8a49c",
   "outputs": [],
   "execution_count": 3
  },
  {
   "metadata": {
    "ExecuteTime": {
     "end_time": "2024-09-11T19:33:32.140303Z",
     "start_time": "2024-09-11T19:33:32.124677Z"
    }
   },
   "cell_type": "code",
   "source": "type(locations)",
   "id": "b72c428afff0ecaa",
   "outputs": [
    {
     "data": {
      "text/plain": [
       "geopandas.geoseries.GeoSeries"
      ]
     },
     "execution_count": 6,
     "metadata": {},
     "output_type": "execute_result"
    }
   ],
   "execution_count": 6
  },
  {
   "metadata": {},
   "cell_type": "markdown",
   "source": "Deine a function to generate deliver data",
   "id": "901ea1625c732c69"
  },
  {
   "metadata": {},
   "cell_type": "code",
   "outputs": [],
   "execution_count": null,
   "source": [
    "\n",
    "def generate_delivery_data(num_deliveries=1000, start_date='2024-01-01', num_days=30):\n",
    "    # Create a sample geographic area (e.g., a city)\n",
    "    city_center = Point(-122.4194, 37.7749)  # San Francisco coordinates\n",
    "    city_radius = 0.1  # Roughly 11km\n",
    "\n",
    "    # Generate random delivery locations\n",
    "    longs = np.random.uniform(city_center.x - city_radius, city_center.x + city_radius, num_deliveries)\n",
    "    lats = np.random.uniform(city_center.y - city_radius, city_center.y + city_radius, num_deliveries)\n",
    "    locations = gpd.GeoSeries([Point(xy) for xy in zip(longs, lats)])\n",
    "\n",
    "    # Generate delivery times\n",
    "    start_datetime = datetime.strptime(start_date, '%Y-%m-%d')\n",
    "    datetimes = [start_datetime + timedelta(\n",
    "        days=random.randint(0, num_days-1),\n",
    "        hours=random.randint(8, 20),\n",
    "        minutes=random.randint(0, 59)\n",
    "    ) for _ in range(num_deliveries)]\n",
    "\n",
    "    # Generate delivery durations (in minutes)\n",
    "    durations = np.random.normal(30, 10, num_deliveries).astype(int)\n",
    "    durations = np.clip(durations, 5, 120)  # Clip between 5 and 120 minutes\n",
    "\n",
    "    # Create weather conditions\n",
    "    weather_conditions = np.random.choice(['Clear', 'Cloudy', 'Rainy'], num_deliveries, p=[0.6, 0.3, 0.1])\n",
    "\n",
    "    # Create traffic conditions\n",
    "    traffic_conditions = np.random.choice(['Light', 'Moderate', 'Heavy'], num_deliveries, p=[0.5, 0.3, 0.2])\n",
    "\n",
    "    # Create DataFrame\n",
    "    df = pd.DataFrame({\n",
    "        'delivery_id': range(1, num_deliveries + 1),\n",
    "        'datetime': datetimes,\n",
    "        'duration_minutes': durations,\n",
    "        'weather': weather_conditions,\n",
    "        'traffic': traffic_conditions,\n",
    "        'latitude': lats,\n",
    "        'longitude': longs\n",
    "    })\n",
    "\n",
    "    # Convert to GeoDataFrame\n",
    "    gdf = gpd.GeoDataFrame(df, geometry=locations, crs='EPSG:4326')\n",
    "\n",
    "    return gdf\n",
    "\n"
   ],
   "id": "fbc583cc64f4a0fa"
  },
  {
   "metadata": {},
   "cell_type": "markdown",
   "source": "",
   "id": "d17699202b440ae"
  },
  {
   "metadata": {},
   "cell_type": "code",
   "outputs": [],
   "execution_count": null,
   "source": [
    "# Generate the data\n",
    "delivery_data = generate_delivery_data()\n",
    "\n",
    "# Save to CSV (you can also save to GeoJSON or other formats if needed)\n",
    "delivery_data.to_csv('synthetic_delivery_data.csv', index=False)\n",
    "\n",
    "print(\"Synthetic delivery data generated and saved to 'synthetic_delivery_data.csv'\")\n",
    "print(delivery_data.head())"
   ],
   "id": "aa6a60c311ff0cf9"
  }
 ],
 "metadata": {
  "kernelspec": {
   "display_name": "Python 3",
   "language": "python",
   "name": "python3"
  },
  "language_info": {
   "codemirror_mode": {
    "name": "ipython",
    "version": 2
   },
   "file_extension": ".py",
   "mimetype": "text/x-python",
   "name": "python",
   "nbconvert_exporter": "python",
   "pygments_lexer": "ipython2",
   "version": "2.7.6"
  }
 },
 "nbformat": 4,
 "nbformat_minor": 5
}
