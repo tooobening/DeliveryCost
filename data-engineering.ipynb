{
 "cells": [
  {
   "cell_type": "code",
   "execution_count": null,
   "id": "4d6e23b21501d8f0",
   "metadata": {
    "collapsed": true
   },
   "outputs": [],
   "source": [
    "import pandas as pd\n",
    "import geopandas as gpd\n",
    "import numpy as np\n",
    "from sklearn.preprocessing import LabelEncoder\n",
    "import matplotlib.pyplot as plt\n",
    "import seaborn as sns"
   ]
  },
  {
   "metadata": {},
   "cell_type": "code",
   "outputs": [],
   "execution_count": null,
   "source": [
    "# Load the data\n",
    "df = pd.read_csv('synthetic_delivery_data.csv')\n",
    "df['datetime'] = pd.to_datetime(df['datetime'])\n",
    "print(\"Original data:\")\n",
    "print(df.head())"
   ],
   "id": "6045b4faec8c0fde"
  },
  {
   "metadata": {},
   "cell_type": "code",
   "outputs": [],
   "execution_count": null,
   "source": [
    "\n",
    "# Temporal Features\n",
    "df['hour'] = df['datetime'].dt.hour\n",
    "df['day_of_week'] = df['datetime'].dt.dayofweek\n",
    "df['is_weekend'] = df['day_of_week'].isin([5, 6]).astype(int)\n",
    "\n",
    "# Create time bins\n",
    "df['time_bin'] = pd.cut(df['hour'], bins=[0, 6, 12, 18, 24], labels=['Night', 'Morning', 'Afternoon', 'Evening'])\n",
    "\n",
    "print(\"\\nTemporal features:\")\n",
    "print(df[['datetime', 'hour', 'day_of_week', 'is_weekend', 'time_bin']].head())"
   ],
   "id": "ad84d923ef9d1dc6"
  },
  {
   "metadata": {},
   "cell_type": "code",
   "outputs": [],
   "execution_count": null,
   "source": [
    "# Geospatial Features\n",
    "gdf = gpd.GeoDataFrame(df, geometry=gpd.points_from_xy(df.longitude, df.latitude), crs='EPSG:4326')\n",
    "\n",
    "# Calculate distance from city center (San Francisco)\n",
    "city_center = gpd.GeoDataFrame({'geometry': [gpd.points_from_xy([-122.4194], [37.7749])[0]]}, crs='EPSG:4326')\n",
    "gdf['distance_from_center'] = gdf.to_crs(crs='EPSG:3857').distance(city_center.to_crs(crs='EPSG:3857'))\n",
    "\n",
    "print(\"\\nGeospatial features:\")\n",
    "print(gdf[['latitude', 'longitude', 'distance_from_center']].head())"
   ],
   "id": "f319c849d2785aa2"
  },
  {
   "metadata": {},
   "cell_type": "code",
   "outputs": [],
   "execution_count": null,
   "source": [
    "# Weather and Traffic Features\n",
    "le_weather = LabelEncoder()\n",
    "le_traffic = LabelEncoder()\n",
    "\n",
    "gdf['weather_encoded'] = le_weather.fit_transform(gdf['weather'])\n",
    "gdf['traffic_encoded'] = le_traffic.fit_transform(gdf['traffic'])\n",
    "\n",
    "print(\"\\nWeather and traffic features:\")\n",
    "print(gdf[['weather', 'weather_encoded', 'traffic', 'traffic_encoded']].head())\n"
   ],
   "id": "bd9b666f9a89e6b6"
  },
  {
   "metadata": {},
   "cell_type": "code",
   "outputs": [],
   "execution_count": null,
   "source": [
    "# Additional Features\n",
    "gdf['month'] = gdf['datetime'].dt.month\n",
    "gdf['day'] = gdf['datetime'].dt.day\n",
    "gdf['time_since_midnight'] = gdf['datetime'].dt.hour * 60 + gdf['datetime'].dt.minute\n",
    "gdf['day_of_year'] = gdf['datetime'].dt.dayofyear\n",
    "\n",
    "print(\"\\nAdditional features:\")\n",
    "print(gdf[['month', 'day', 'time_since_midnight', 'day_of_year']].head())"
   ],
   "id": "6515271401944211"
  },
  {
   "metadata": {},
   "cell_type": "code",
   "outputs": [],
   "execution_count": null,
   "source": [
    "\n",
    "# Final Feature Set\n",
    "features = ['hour', 'day_of_week', 'is_weekend', 'distance_from_center', 'weather_encoded', 'traffic_encoded',\n",
    "            'month', 'day', 'time_since_midnight', 'day_of_year']\n",
    "target = 'duration_minutes'\n",
    "\n",
    "X = gdf[features]\n",
    "y = gdf[target]\n",
    "\n",
    "print(\"\\nFinal feature set:\")\n",
    "print(X.head())\n",
    "print(\"\\nTarget variable:\")\n",
    "print(y.head())\n"
   ],
   "id": "bf0ea2d180fae5a7"
  },
  {
   "metadata": {},
   "cell_type": "code",
   "outputs": [],
   "execution_count": null,
   "source": [
    "# Feature Correlation Analysis\n",
    "correlation_matrix = X.corr()\n",
    "\n",
    "plt.figure(figsize=(12, 10))\n",
    "sns.heatmap(correlation_matrix, annot=True, cmap='coolwarm', vmin=-1, vmax=1, center=0)\n",
    "plt.title('Feature Correlation Heatmap')\n",
    "plt.tight_layout()\n",
    "plt.savefig('feature_correlation_heatmap.png')\n",
    "plt.close()\n",
    "\n",
    "print(\"\\nFeature correlation heatmap saved as 'feature_correlation_heatmap.png'\")\n",
    "\n",
    "# Save Processed Data\n",
    "gdf.to_csv('processed_delivery_data.csv', index=False)\n",
    "print(\"\\nProcessed data saved to 'processed_delivery_data.csv'\")"
   ],
   "id": "initial_id"
  }
 ],
 "metadata": {
  "kernelspec": {
   "display_name": "Python 3",
   "language": "python",
   "name": "python3"
  },
  "language_info": {
   "codemirror_mode": {
    "name": "ipython",
    "version": 2
   },
   "file_extension": ".py",
   "mimetype": "text/x-python",
   "name": "python",
   "nbconvert_exporter": "python",
   "pygments_lexer": "ipython2",
   "version": "2.7.6"
  }
 },
 "nbformat": 4,
 "nbformat_minor": 5
}
